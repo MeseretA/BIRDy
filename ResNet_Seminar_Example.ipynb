{
  "nbformat": 4,
  "nbformat_minor": 0,
  "metadata": {
    "colab": {
      "name": "ResNet-Seminar-Example.ipynb",
      "provenance": [],
      "collapsed_sections": [],
      "mount_file_id": "1-ASR7LVcadIihW3YPGEItN-5qKFPZlsf",
      "authorship_tag": "ABX9TyO5ZBoORdC29vhTL45QV+iW",
      "include_colab_link": true
    },
    "kernelspec": {
      "name": "python3",
      "display_name": "Python 3"
    },
    "language_info": {
      "name": "python"
    }
  },
  "cells": [
    {
      "cell_type": "markdown",
      "metadata": {
        "id": "view-in-github",
        "colab_type": "text"
      },
      "source": [
        "<a href=\"https://colab.research.google.com/github/MeseretA/BIRDy/blob/main/ResNet_Seminar_Example.ipynb\" target=\"_parent\"><img src=\"https://colab.research.google.com/assets/colab-badge.svg\" alt=\"Open In Colab\"/></a>"
      ]
    },
    {
      "cell_type": "markdown",
      "metadata": {
        "id": "Dy5f5KkuAW-V"
      },
      "source": [
        "# ResNET\n",
        "Since ResNET is originally created for image recognition, its residual block uses Conv3D layers and pooling layers.\n",
        "In order to use ResNET for regression problems, we need to replace each block layers with Conv1D and 1 dimensional pooling. In addition to that, we need to modify the output layer activation function, which is usually `linear` for regression.\n",
        "# 1 Dimensional Convolution (Conv1D) for Regression\n",
        "In regression problem, we aim to predict the output of a continuous value. Typically, data for regression problem is in the shape of `[batch_size, features]`. However, Conv1D layer expects input shape in 3D as `[batch_size, time_steps, input_dimension]`. Thus, we need to reshape our data sets."
      ]
    },
    {
      "cell_type": "code",
      "metadata": {
        "colab": {
          "base_uri": "https://localhost:8080/"
        },
        "id": "0pulycXpI8mC",
        "outputId": "e0f3756c-1c75-4677-d91d-ba47468d9175"
      },
      "source": [
        "!pip install tensorflow_addons"
      ],
      "execution_count": 40,
      "outputs": [
        {
          "output_type": "stream",
          "text": [
            "Requirement already satisfied: tensorflow_addons in /usr/local/lib/python3.7/dist-packages (0.14.0)\n",
            "Requirement already satisfied: typeguard>=2.7 in /usr/local/lib/python3.7/dist-packages (from tensorflow_addons) (2.7.1)\n"
          ],
          "name": "stdout"
        }
      ]
    },
    {
      "cell_type": "code",
      "metadata": {
        "colab": {
          "base_uri": "https://localhost:8080/"
        },
        "id": "i0FFFMe4B8O8",
        "outputId": "ad39df09-80f4-4465-a0c3-7016f1440f81"
      },
      "source": [
        "import os\n",
        "import pandas as pd\n",
        "import numpy as np\n",
        "import IPython\n",
        "import IPython.display\n",
        "import matplotlib as mpl\n",
        "import matplotlib.pyplot as plt\n",
        "import seaborn as sns\n",
        "import tensorflow as tf\n",
        "\n",
        "import math\n",
        "\n",
        "import tensorflow.keras as keras\n",
        "import time\n",
        "\n",
        "from sklearn.utils import shuffle\n",
        "\n",
        "from sklearn.model_selection import train_test_split\n",
        "\n",
        "\n",
        "import tensorflow_addons as tfa\n",
        "\n",
        "mpl.rcParams['figure.figsize'] = (8, 6)\n",
        "mpl.rcParams['axes.grid'] = False\n",
        "\n",
        "from google.colab import drive\n",
        "drive.mount('/content/drive')\n",
        "\n",
        "# Importing the training set\n",
        "dataset_train = pd.read_csv(\"/content/drive/MyDrive/TestDataWithPose.csv\", header= None)"
      ],
      "execution_count": 41,
      "outputs": [
        {
          "output_type": "stream",
          "text": [
            "Drive already mounted at /content/drive; to attempt to forcibly remount, call drive.mount(\"/content/drive\", force_remount=True).\n"
          ],
          "name": "stdout"
        }
      ]
    },
    {
      "cell_type": "code",
      "metadata": {
        "colab": {
          "base_uri": "https://localhost:8080/",
          "height": 200
        },
        "id": "nMzhUjcBCKgH",
        "outputId": "e33bdca0-4404-4e22-9ff1-005c75d495cd"
      },
      "source": [
        "dataset_train.head()"
      ],
      "execution_count": 42,
      "outputs": [
        {
          "output_type": "execute_result",
          "data": {
            "text/html": [
              "<div>\n",
              "<style scoped>\n",
              "    .dataframe tbody tr th:only-of-type {\n",
              "        vertical-align: middle;\n",
              "    }\n",
              "\n",
              "    .dataframe tbody tr th {\n",
              "        vertical-align: top;\n",
              "    }\n",
              "\n",
              "    .dataframe thead th {\n",
              "        text-align: right;\n",
              "    }\n",
              "</style>\n",
              "<table border=\"1\" class=\"dataframe\">\n",
              "  <thead>\n",
              "    <tr style=\"text-align: right;\">\n",
              "      <th></th>\n",
              "      <th>0</th>\n",
              "      <th>1</th>\n",
              "      <th>2</th>\n",
              "    </tr>\n",
              "  </thead>\n",
              "  <tbody>\n",
              "    <tr>\n",
              "      <th>0</th>\n",
              "      <td>-0.000499</td>\n",
              "      <td>-0.000043</td>\n",
              "      <td>-0.011229</td>\n",
              "    </tr>\n",
              "    <tr>\n",
              "      <th>1</th>\n",
              "      <td>-0.000998</td>\n",
              "      <td>-0.000084</td>\n",
              "      <td>-0.022465</td>\n",
              "    </tr>\n",
              "    <tr>\n",
              "      <th>2</th>\n",
              "      <td>-0.001497</td>\n",
              "      <td>-0.000124</td>\n",
              "      <td>-0.034352</td>\n",
              "    </tr>\n",
              "    <tr>\n",
              "      <th>3</th>\n",
              "      <td>-0.001996</td>\n",
              "      <td>-0.000162</td>\n",
              "      <td>-0.046893</td>\n",
              "    </tr>\n",
              "    <tr>\n",
              "      <th>4</th>\n",
              "      <td>-0.002495</td>\n",
              "      <td>-0.000201</td>\n",
              "      <td>-0.058781</td>\n",
              "    </tr>\n",
              "  </tbody>\n",
              "</table>\n",
              "</div>"
            ],
            "text/plain": [
              "          0         1         2\n",
              "0 -0.000499 -0.000043 -0.011229\n",
              "1 -0.000998 -0.000084 -0.022465\n",
              "2 -0.001497 -0.000124 -0.034352\n",
              "3 -0.001996 -0.000162 -0.046893\n",
              "4 -0.002495 -0.000201 -0.058781"
            ]
          },
          "metadata": {},
          "execution_count": 42
        }
      ]
    },
    {
      "cell_type": "code",
      "metadata": {
        "colab": {
          "base_uri": "https://localhost:8080/",
          "height": 358
        },
        "id": "vj5m2v9xCM_t",
        "outputId": "76982193-200d-4e38-d894-a7f6e3b1bfe4"
      },
      "source": [
        "plot_cols = [0, 1, 2]\n",
        "plot_features = dataset_train[plot_cols]\n",
        "_=plot_features.plot(subplots=True)"
      ],
      "execution_count": 43,
      "outputs": [
        {
          "output_type": "display_data",
          "data": {
            "image/png": "[encoded data removed]",
            "text/plain": [
              "<Figure size 576x432 with 3 Axes>"
            ]
          },
          "metadata": {
            "needs_background": "light"
          }
        }
      ]
    },
    {
      "cell_type": "code",
      "metadata": {
        "id": "HDPyApxxCRt8"
      },
      "source": [
        "column_indices = {name: i for i, name in enumerate(dataset_train.columns)}\n",
        "n = len(dataset_train)\n",
        "train_data = dataset_train[0:int(n*0.7)]\n",
        "val_data = dataset_train[int(n*0.7):int(n*0.9)]\n",
        "test_data = dataset_train[int(n*0.9):]\n",
        "\n",
        "num_features = dataset_train.shape[1]\n",
        "\n",
        "train_mean = train_data.mean()\n",
        "train_std = train_data.std()\n",
        "\n",
        "train_data = (train_data - train_mean)/train_std\n",
        "val_data = (val_data - train_mean)/train_std\n",
        "test_data = (test_data - train_mean)/train_std"
      ],
      "execution_count": 44,
      "outputs": []
    },
    {
      "cell_type": "code",
      "metadata": {
        "id": "b8da6W2DbdKu"
      },
      "source": [
        "# change ot numpy\n",
        "train_data = train_data.to_numpy()\n",
        "val_data = val_data.to_numpy()\n",
        "test_data = test_data.to_numpy()"
      ],
      "execution_count": 46,
      "outputs": []
    },
    {
      "cell_type": "markdown",
      "metadata": {
        "id": "kMIGzVCPIpb4"
      },
      "source": [
        "# Reshape Data sets\n",
        "Conv1D layer expects input shape in 3D as \n",
        "\n",
        "`[batch_size, time_steps, input_dimension]`\n",
        "\n",
        "However, current data is in the shape of\n",
        "\n",
        "`[batch_size, features]`\n",
        "\n",
        "**Basically, we will convert features to time steps**\n",
        "\n",
        "To convert 2D of input data into a 3D input, we simply `reshape` as follows:"
      ]
    },
    {
      "cell_type": "code",
      "metadata": {
        "id": "YcuZIoklaqGB"
      },
      "source": [
        "# Reshape to use Conv1D\n",
        "\n",
        "# training data\n",
        "sample_size_train = train_data.shape[0] # number of samples in train set\n",
        "time_steps_train = train_data.shape[1]  # number of features in train set\n",
        "input_dimension_train = 1               # each feature is represented by 1 number\n",
        "\n",
        "train_data_reshaped = train_data.reshape(sample_size_train, time_steps_train, input_dimension_train)\n",
        "\n",
        "# test data\n",
        "sample_size_test = test_data.shape[0] # number of samples in train set\n",
        "time_steps_test = test_data.shape[1]  # number of features in train set\n",
        "input_dimension_test = 1               # each feature is represented by 1 number\n",
        "\n",
        "test_data_reshaped = test_data.reshape(sample_size_test, time_steps_test, input_dimension_test)\n",
        "\n",
        "#validation data\n",
        "sample_size_val = val_data.shape[0] # number of samples in train set\n",
        "time_steps_val = val_data.shape[1]  # number of features in train set\n",
        "input_dimension_val = 1               # each feature is represented by 1 number\n",
        "\n",
        "val_data_reshaped = val_data.reshape(sample_size_val, time_steps_val, input_dimension_val)\n"
      ],
      "execution_count": 50,
      "outputs": []
    },
    {
      "cell_type": "code",
      "metadata": {
        "colab": {
          "base_uri": "https://localhost:8080/"
        },
        "id": "gYiVur8jcFU8",
        "outputId": "9a578853-8c73-4704-cb80-99d517dffbf5"
      },
      "source": [
        "x_train = train_data_reshaped[:,:2,:]\n",
        "y_train = train_data_reshaped[:,2,:]\n",
        "x_test = test_data_reshaped[:,:2,:]\n",
        "y_test = test_data_reshaped[:,2,:]\n",
        "y_test.shape"
      ],
      "execution_count": 51,
      "outputs": [
        {
          "output_type": "execute_result",
          "data": {
            "text/plain": [
              "(10000, 1)"
            ]
          },
          "metadata": {},
          "execution_count": 51
        }
      ]
    },
    {
      "cell_type": "code",
      "metadata": {
        "colab": {
          "base_uri": "https://localhost:8080/"
        },
        "id": "S2UZX06VewHP",
        "outputId": "ee5c4d34-7aab-4be6-98ed-a2ee2a7cacae"
      },
      "source": [
        "input_shape = x_train.shape[1:]\n",
        "input_shape"
      ],
      "execution_count": 52,
      "outputs": [
        {
          "output_type": "execute_result",
          "data": {
            "text/plain": [
              "(2, 1)"
            ]
          },
          "metadata": {},
          "execution_count": 52
        }
      ]
    },
    {
      "cell_type": "code",
      "metadata": {
        "id": "0bDWNIKFEOji"
      },
      "source": [
        "import sklearn\n",
        "from sklearn.metrics import accuracy_score\n",
        "from sklearn.metrics import precision_score\n",
        "from sklearn.metrics import recall_score\n",
        "def calculate_metrics(y_true, y_pred, duration, y_true_val=None, y_pred_val=None):\n",
        "    res = pd.DataFrame(data=np.zeros((1, 4), dtype=np.float), index=[0],\n",
        "                       columns=['precision', 'accuracy', 'recall', 'duration'])\n",
        "    res['precision'] = precision_score(y_true, y_pred, average='macro')\n",
        "    res['accuracy'] = accuracy_score(y_true, y_pred)\n",
        "\n",
        "    if not y_true_val is None:\n",
        "        # this is useful when transfer learning is used with cross validation\n",
        "        res['accuracy_val'] = accuracy_score(y_true_val, y_pred_val)\n",
        "\n",
        "    res['recall'] = recall_score(y_true, y_pred, average='macro')\n",
        "    res['duration'] = duration\n",
        "    return res"
      ],
      "execution_count": 53,
      "outputs": []
    },
    {
      "cell_type": "code",
      "metadata": {
        "id": "UfPZ699MOdmI"
      },
      "source": [
        "def plot_epochs_metric(hist, file_name, metric='loss'):\n",
        "    plt.figure()\n",
        "    plt.plot(hist.history[metric])\n",
        "    plt.plot(hist.history['val_' + metric])\n",
        "    plt.title('model ' + metric)\n",
        "    plt.ylabel(metric, fontsize='large')\n",
        "    plt.xlabel('epoch', fontsize='large')\n",
        "    plt.legend(['train', 'val'], loc='upper left')\n",
        "    plt.savefig(file_name, bbox_inches='tight')\n",
        "    plt.close()"
      ],
      "execution_count": 54,
      "outputs": []
    },
    {
      "cell_type": "code",
      "metadata": {
        "id": "IseqGA_V4Oco"
      },
      "source": [
        "def save_test_duration(file_name, test_duration):\n",
        "    res = pd.DataFrame(data=np.zeros((1, 1), dtype=np.float), index=[0],\n",
        "                       columns=['test_duration'])\n",
        "    res['test_duration'] = test_duration\n",
        "    res.to_csv(file_name, index=False)"
      ],
      "execution_count": 55,
      "outputs": []
    },
    {
      "cell_type": "code",
      "metadata": {
        "id": "re9hV7HkEuzu"
      },
      "source": [
        "def save_logs(output_directory, hist, y_pred, y_true, duration, lr=False, y_true_val=None, y_pred_val=None):\n",
        "    hist_df = pd.DataFrame(hist.history)\n",
        "    hist_df.to_csv(output_directory + 'history.csv', index=False)\n",
        "\n",
        "    #df_metrics = calculate_metrics(y_true, y_pred, duration, y_true_val, y_pred_val)\n",
        "    #df_metrics.to_csv(output_directory + 'df_metrics.csv', index=False)\n",
        "\n",
        "    index_best_model = hist_df['loss'].idxmin()\n",
        "    row_best_model = hist_df.loc[index_best_model]\n",
        "\n",
        "    df_best_model = pd.DataFrame(data=np.zeros((1, 6), dtype=np.float), index=[0],\n",
        "                                 columns=['best_model_train_loss', 'best_model_val_loss', 'best_model_train_acc',\n",
        "                                          'best_model_val_acc', 'best_model_learning_rate', 'best_model_nb_epoch'])\n",
        "\n",
        "    df_best_model['best_model_train_loss'] = row_best_model['loss']\n",
        "    df_best_model['best_model_val_loss'] = row_best_model['val_loss']\n",
        "    df_best_model['best_model_train_acc'] = row_best_model['mse']\n",
        "    df_best_model['best_model_val_acc'] = row_best_model['val_mse']\n",
        "    if lr == True:\n",
        "        df_best_model['best_model_learning_rate'] = row_best_model['lr']\n",
        "    df_best_model['best_model_nb_epoch'] = index_best_model\n",
        "\n",
        "    df_best_model.to_csv(output_directory + 'df_best_model.csv', index=False)\n",
        "\n",
        "    # for FCN there is no hyperparameters fine tuning - everything is static in code\n",
        "\n",
        "    # plot losses\n",
        "    plot_epochs_metric(hist, output_directory + 'epochs_loss.png')\n"
      ],
      "execution_count": 56,
      "outputs": []
    },
    {
      "cell_type": "code",
      "metadata": {
        "id": "PaXYcZiovodm"
      },
      "source": [
        "\n",
        "class Classifier_RESNET():\n",
        "\n",
        "    def __init__(self, output_directory, input_shape, nb_classes, verbose=False, build=True, load_weights=False):\n",
        "        self.output_directory = output_directory\n",
        "        if build == True:\n",
        "            self.model = self.build_model(input_shape, nb_classes)\n",
        "            if (verbose == True):\n",
        "                self.model.summary()\n",
        "            self.verbose = verbose\n",
        "            if load_weights == True:\n",
        "                self.model.load_weights(self.output_directory\n",
        "                                        .replace('resnet_augment', 'resnet')\n",
        "                                        .replace('Fric_itr_augment_x_10', 'Fric_itr_10')\n",
        "                                        + '/model_init.hdf5')\n",
        "            else:\n",
        "                self.model.save_weights(self.output_directory + 'model_init.hdf5')\n",
        "        return\n",
        "\n",
        "    def build_model(self, input_shape, nb_classes):\n",
        "        n_feature_maps = 64\n",
        "\n",
        "        input_layer = keras.layers.Input(input_shape)\n",
        "\n",
        "        # BLOCK 1\n",
        "\n",
        "        conv_x = keras.layers.Conv1D(filters=n_feature_maps, kernel_size=8, padding='same')(input_layer)\n",
        "        conv_x = keras.layers.BatchNormalization()(conv_x)\n",
        "        conv_x = keras.layers.Activation('relu')(conv_x)\n",
        "\n",
        "        conv_y = keras.layers.Conv1D(filters=n_feature_maps, kernel_size=5, padding='same')(conv_x)\n",
        "        conv_y = keras.layers.BatchNormalization()(conv_y)\n",
        "        conv_y = keras.layers.Activation('relu')(conv_y)\n",
        "\n",
        "        conv_z = keras.layers.Conv1D(filters=n_feature_maps, kernel_size=3, padding='same')(conv_y)\n",
        "        conv_z = keras.layers.BatchNormalization()(conv_z)\n",
        "\n",
        "        # expand channels for the sum\n",
        "        shortcut_y = keras.layers.Conv1D(filters=n_feature_maps, kernel_size=1, padding='same')(input_layer)\n",
        "        shortcut_y = keras.layers.BatchNormalization()(shortcut_y)\n",
        "\n",
        "        output_block_1 = keras.layers.add([shortcut_y, conv_z])\n",
        "        output_block_1 = keras.layers.Activation('relu')(output_block_1)\n",
        "\n",
        "        # BLOCK 2\n",
        "\n",
        "        conv_x = keras.layers.Conv1D(filters=n_feature_maps * 2, kernel_size=8, padding='same')(output_block_1)\n",
        "        conv_x = keras.layers.BatchNormalization()(conv_x)\n",
        "        conv_x = keras.layers.Activation('relu')(conv_x)\n",
        "\n",
        "        conv_y = keras.layers.Conv1D(filters=n_feature_maps * 2, kernel_size=5, padding='same')(conv_x)\n",
        "        conv_y = keras.layers.BatchNormalization()(conv_y)\n",
        "        conv_y = keras.layers.Activation('relu')(conv_y)\n",
        "\n",
        "        conv_z = keras.layers.Conv1D(filters=n_feature_maps * 2, kernel_size=3, padding='same')(conv_y)\n",
        "        conv_z = keras.layers.BatchNormalization()(conv_z)\n",
        "\n",
        "        # expand channels for the sum\n",
        "        shortcut_y = keras.layers.Conv1D(filters=n_feature_maps * 2, kernel_size=1, padding='same')(output_block_1)\n",
        "        shortcut_y = keras.layers.BatchNormalization()(shortcut_y)\n",
        "\n",
        "        output_block_2 = keras.layers.add([shortcut_y, conv_z])\n",
        "        output_block_2 = keras.layers.Activation('relu')(output_block_2)\n",
        "\n",
        "        # BLOCK 3\n",
        "\n",
        "        conv_x = keras.layers.Conv1D(filters=n_feature_maps * 2, kernel_size=8, padding='same')(output_block_2)\n",
        "        conv_x = keras.layers.BatchNormalization()(conv_x)\n",
        "        conv_x = keras.layers.Activation('relu')(conv_x)\n",
        "\n",
        "        conv_y = keras.layers.Conv1D(filters=n_feature_maps * 2, kernel_size=5, padding='same')(conv_x)\n",
        "        conv_y = keras.layers.BatchNormalization()(conv_y)\n",
        "        conv_y = keras.layers.Activation('relu')(conv_y)\n",
        "\n",
        "        conv_z = keras.layers.Conv1D(filters=n_feature_maps * 2, kernel_size=3, padding='same')(conv_y)\n",
        "        conv_z = keras.layers.BatchNormalization()(conv_z)\n",
        "\n",
        "        # no need to expand channels because they are equal\n",
        "        shortcut_y = keras.layers.BatchNormalization()(output_block_2)\n",
        "\n",
        "        output_block_3 = keras.layers.add([shortcut_y, conv_z])\n",
        "        output_block_3 = keras.layers.Activation('relu')(output_block_3)\n",
        "\n",
        "        # FINAL\n",
        "\n",
        "        gap_layer = keras.layers.BatchNormalization()(output_block_3)\n",
        "\n",
        "        #output_layer = keras.layers.Dense(nb_classes, activation='softmax')(gap_layer)\n",
        "        output_layer = keras.layers.Dense(1, activation='linear')(gap_layer)        \n",
        "\n",
        "        model = keras.models.Model(inputs=input_layer, outputs=output_layer)\n",
        "\n",
        "        #model.compile(loss='categorical_crossentropy', optimizer=keras.optimizers.Adam(),\n",
        "        #              metrics=['accuracy'])\n",
        "        model.compile(loss='mse', optimizer=keras.optimizers.Adam(),\n",
        "                      metrics=['mse'])\n",
        "\n",
        "        reduce_lr = keras.callbacks.ReduceLROnPlateau(monitor='loss', factor=0.5, patience=50, min_lr=0.0001)\n",
        "        #history = model.fit(X_train, y_train, epochs=50, batch_size=5000, verbose=2, callbacks=[callbacks.EarlyStopping(monitor='val_loss', patience=10,verbose=2, mode='auto')], validation_split=0.1)\n",
        "        early_stoping = keras.callbacks.EarlyStopping(monitor='val_loss', patience=10,verbose=2, mode='auto')\n",
        "        file_path = self.output_directory + 'best_model.hdf5'\n",
        "\n",
        "        model_checkpoint = keras.callbacks.ModelCheckpoint(filepath=file_path, monitor='loss',\n",
        "                                                           save_best_only=True)\n",
        "\n",
        "        self.callbacks = [reduce_lr, model_checkpoint, early_stoping]\n",
        "\n",
        "        return model\n",
        "\n",
        "    def fit(self, x_train, y_train, x_val, y_val, y_true):\n",
        "        if not tf.test.is_gpu_available:\n",
        "            print('error')\n",
        "            exit()\n",
        "        # x_val and y_val are only used to monitor the test loss and NOT for training\n",
        "        batch_size = 64\n",
        "        nb_epochs = 100#800 #1500\n",
        "\n",
        "        mini_batch_size = int(min(x_train.shape[0] / 10, batch_size))\n",
        "\n",
        "        start_time = time.time()\n",
        "\n",
        "        hist = self.model.fit(x_train, y_train, batch_size=mini_batch_size, epochs=nb_epochs,\n",
        "                              verbose=self.verbose, validation_data=(x_val, y_val), callbacks=self.callbacks)\n",
        "\n",
        "        duration = time.time() - start_time\n",
        "\n",
        "        self.model.save(self.output_directory + 'last_model.hdf5')\n",
        "\n",
        "        y_pred = self.predict(x_val, y_true, x_train, y_train, y_val,\n",
        "                              return_df_metrics=False)\n",
        "\n",
        "        # save predictions\n",
        "        np.save(self.output_directory + 'y_pred.npy', y_pred)\n",
        "\n",
        "        # convert the predicted from binary to integer\n",
        "        #y_pred = np.argmax(y_pred, axis=1)\n",
        "\n",
        "        save_logs(self.output_directory, hist, y_pred, y_true, duration)\n",
        "\n",
        "        keras.backend.clear_session()\n",
        "\n",
        "        return df_metrics\n",
        "\n",
        "    def predict(self, x_test, y_true, x_train, y_train, y_test, return_df_metrics=False):\n",
        "        start_time = time.time()\n",
        "        model_path = self.output_directory + 'best_model.hdf5'\n",
        "        model = keras.models.load_model(model_path)\n",
        "        y_pred = model.predict(x_test)\n",
        "        if return_df_metrics:\n",
        "            #y_pred = np.argmax(y_pred, axis=1)\n",
        "            df_metrics = calculate_metrics(y_true, y_pred, 0.0)\n",
        "            return df_metrics\n",
        "        else:\n",
        "            test_duration = time.time() - start_time\n",
        "            save_test_duration(self.output_directory + 'test_duration.csv', test_duration)\n",
        "            return y_pred"
      ],
      "execution_count": 57,
      "outputs": []
    },
    {
      "cell_type": "code",
      "metadata": {
        "colab": {
          "base_uri": "https://localhost:8080/",
          "height": 1000
        },
        "id": "iLhtPFs5Fy73",
        "outputId": "879f2b4e-0f9f-47bb-aac9-1915a4c32c16"
      },
      "source": [
        "output_directory =   '/content/drive/MyDrive/Colab Notebooks/Seminar'  # Change to your directory\n",
        "classifier = Classifier_RESNET(output_directory, input_shape, 1, verbose=True)\n",
        "classifier.fit(x_train, y_train, x_test, y_test, y_test)"
      ],
      "execution_count": 58,
      "outputs": [
        {
          "output_type": "stream",
          "text": [
            "Model: \"model_3\"\n",
            "__________________________________________________________________________________________________\n",
            "Layer (type)                    Output Shape         Param #     Connected to                     \n",
            "==================================================================================================\n",
            "input_4 (InputLayer)            [(None, 2, 1)]       0                                            \n",
            "__________________________________________________________________________________________________\n",
            "conv1d_33 (Conv1D)              (None, 2, 64)        576         input_4[0][0]                    \n",
            "__________________________________________________________________________________________________\n",
            "batch_normalization_39 (BatchNo (None, 2, 64)        256         conv1d_33[0][0]                  \n",
            "__________________________________________________________________________________________________\n",
            "activation_27 (Activation)      (None, 2, 64)        0           batch_normalization_39[0][0]     \n",
            "__________________________________________________________________________________________________\n",
            "conv1d_34 (Conv1D)              (None, 2, 64)        20544       activation_27[0][0]              \n",
            "__________________________________________________________________________________________________\n",
            "batch_normalization_40 (BatchNo (None, 2, 64)        256         conv1d_34[0][0]                  \n",
            "__________________________________________________________________________________________________\n",
            "activation_28 (Activation)      (None, 2, 64)        0           batch_normalization_40[0][0]     \n",
            "__________________________________________________________________________________________________\n",
            "conv1d_36 (Conv1D)              (None, 2, 64)        128         input_4[0][0]                    \n",
            "__________________________________________________________________________________________________\n",
            "conv1d_35 (Conv1D)              (None, 2, 64)        12352       activation_28[0][0]              \n",
            "__________________________________________________________________________________________________\n",
            "batch_normalization_42 (BatchNo (None, 2, 64)        256         conv1d_36[0][0]                  \n",
            "__________________________________________________________________________________________________\n",
            "batch_normalization_41 (BatchNo (None, 2, 64)        256         conv1d_35[0][0]                  \n",
            "__________________________________________________________________________________________________\n",
            "add_9 (Add)                     (None, 2, 64)        0           batch_normalization_42[0][0]     \n",
            "                                                                 batch_normalization_41[0][0]     \n",
            "__________________________________________________________________________________________________\n",
            "activation_29 (Activation)      (None, 2, 64)        0           add_9[0][0]                      \n",
            "__________________________________________________________________________________________________\n",
            "conv1d_37 (Conv1D)              (None, 2, 128)       65664       activation_29[0][0]              \n",
            "__________________________________________________________________________________________________\n",
            "batch_normalization_43 (BatchNo (None, 2, 128)       512         conv1d_37[0][0]                  \n",
            "__________________________________________________________________________________________________\n",
            "activation_30 (Activation)      (None, 2, 128)       0           batch_normalization_43[0][0]     \n",
            "__________________________________________________________________________________________________\n",
            "conv1d_38 (Conv1D)              (None, 2, 128)       82048       activation_30[0][0]              \n",
            "__________________________________________________________________________________________________\n",
            "batch_normalization_44 (BatchNo (None, 2, 128)       512         conv1d_38[0][0]                  \n",
            "__________________________________________________________________________________________________\n",
            "activation_31 (Activation)      (None, 2, 128)       0           batch_normalization_44[0][0]     \n",
            "__________________________________________________________________________________________________\n",
            "conv1d_40 (Conv1D)              (None, 2, 128)       8320        activation_29[0][0]              \n",
            "__________________________________________________________________________________________________\n",
            "conv1d_39 (Conv1D)              (None, 2, 128)       49280       activation_31[0][0]              \n",
            "__________________________________________________________________________________________________\n",
            "batch_normalization_46 (BatchNo (None, 2, 128)       512         conv1d_40[0][0]                  \n",
            "__________________________________________________________________________________________________\n",
            "batch_normalization_45 (BatchNo (None, 2, 128)       512         conv1d_39[0][0]                  \n",
            "__________________________________________________________________________________________________\n",
            "add_10 (Add)                    (None, 2, 128)       0           batch_normalization_46[0][0]     \n",
            "                                                                 batch_normalization_45[0][0]     \n",
            "__________________________________________________________________________________________________\n",
            "activation_32 (Activation)      (None, 2, 128)       0           add_10[0][0]                     \n",
            "__________________________________________________________________________________________________\n",
            "conv1d_41 (Conv1D)              (None, 2, 128)       131200      activation_32[0][0]              \n",
            "__________________________________________________________________________________________________\n",
            "batch_normalization_47 (BatchNo (None, 2, 128)       512         conv1d_41[0][0]                  \n",
            "__________________________________________________________________________________________________\n",
            "activation_33 (Activation)      (None, 2, 128)       0           batch_normalization_47[0][0]     \n",
            "__________________________________________________________________________________________________\n",
            "conv1d_42 (Conv1D)              (None, 2, 128)       82048       activation_33[0][0]              \n",
            "__________________________________________________________________________________________________\n",
            "batch_normalization_48 (BatchNo (None, 2, 128)       512         conv1d_42[0][0]                  \n",
            "__________________________________________________________________________________________________\n",
            "activation_34 (Activation)      (None, 2, 128)       0           batch_normalization_48[0][0]     \n",
            "__________________________________________________________________________________________________\n",
            "conv1d_43 (Conv1D)              (None, 2, 128)       49280       activation_34[0][0]              \n",
            "__________________________________________________________________________________________________\n",
            "batch_normalization_50 (BatchNo (None, 2, 128)       512         activation_32[0][0]              \n",
            "__________________________________________________________________________________________________\n",
            "batch_normalization_49 (BatchNo (None, 2, 128)       512         conv1d_43[0][0]                  \n",
            "__________________________________________________________________________________________________\n",
            "add_11 (Add)                    (None, 2, 128)       0           batch_normalization_50[0][0]     \n",
            "                                                                 batch_normalization_49[0][0]     \n",
            "__________________________________________________________________________________________________\n",
            "activation_35 (Activation)      (None, 2, 128)       0           add_11[0][0]                     \n",
            "__________________________________________________________________________________________________\n",
            "batch_normalization_51 (BatchNo (None, 2, 128)       512         activation_35[0][0]              \n",
            "__________________________________________________________________________________________________\n",
            "dense_3 (Dense)                 (None, 2, 1)         129         batch_normalization_51[0][0]     \n",
            "==================================================================================================\n",
            "Total params: 507,201\n",
            "Trainable params: 504,385\n",
            "Non-trainable params: 2,816\n",
            "__________________________________________________________________________________________________\n",
            "Epoch 1/100\n",
            "1094/1094 [==============================] - 55s 47ms/step - loss: 0.0461 - mse: 0.0461 - val_loss: 0.0076 - val_mse: 0.0076\n"
          ],
          "name": "stdout"
        },
        {
          "output_type": "stream",
          "text": [
            "/usr/local/lib/python3.7/dist-packages/keras/utils/generic_utils.py:497: CustomMaskWarning: Custom mask layers require a config and must override get_config. When loading, the custom mask layer must be passed to the custom_objects argument.\n",
            "  category=CustomMaskWarning)\n"
          ],
          "name": "stderr"
        },
        {
          "output_type": "stream",
          "text": [
            "Epoch 2/100\n",
            "1094/1094 [==============================] - 50s 46ms/step - loss: 0.0241 - mse: 0.0241 - val_loss: 0.0092 - val_mse: 0.0092\n",
            "Epoch 3/100\n",
            "1094/1094 [==============================] - 51s 46ms/step - loss: 0.0230 - mse: 0.0230 - val_loss: 0.0063 - val_mse: 0.0063\n",
            "Epoch 4/100\n",
            "1094/1094 [==============================] - 51s 46ms/step - loss: 0.0223 - mse: 0.0223 - val_loss: 0.0079 - val_mse: 0.0079\n",
            "Epoch 5/100\n",
            "1094/1094 [==============================] - 54s 49ms/step - loss: 0.0224 - mse: 0.0224 - val_loss: 0.0070 - val_mse: 0.0070\n",
            "Epoch 6/100\n",
            "1094/1094 [==============================] - 51s 47ms/step - loss: 0.0214 - mse: 0.0214 - val_loss: 0.0068 - val_mse: 0.0068\n",
            "Epoch 7/100\n",
            "1094/1094 [==============================] - 51s 47ms/step - loss: 0.0220 - mse: 0.0220 - val_loss: 0.0047 - val_mse: 0.0047\n",
            "Epoch 8/100\n",
            "1094/1094 [==============================] - 51s 47ms/step - loss: 0.0209 - mse: 0.0209 - val_loss: 0.0060 - val_mse: 0.0060\n",
            "Epoch 9/100\n",
            "1094/1094 [==============================] - 50s 46ms/step - loss: 0.0207 - mse: 0.0207 - val_loss: 0.0054 - val_mse: 0.0054\n",
            "Epoch 10/100\n",
            "1094/1094 [==============================] - 50s 46ms/step - loss: 0.0212 - mse: 0.0212 - val_loss: 0.0045 - val_mse: 0.0045\n",
            "Epoch 11/100\n",
            "1094/1094 [==============================] - 51s 47ms/step - loss: 0.0198 - mse: 0.0198 - val_loss: 0.0048 - val_mse: 0.0048\n",
            "Epoch 12/100\n",
            "1094/1094 [==============================] - 52s 47ms/step - loss: 0.0217 - mse: 0.0217 - val_loss: 0.0066 - val_mse: 0.0066\n",
            "Epoch 13/100\n",
            "1094/1094 [==============================] - 51s 47ms/step - loss: 0.0209 - mse: 0.0209 - val_loss: 0.0045 - val_mse: 0.0045\n",
            "Epoch 14/100\n",
            "1094/1094 [==============================] - 51s 47ms/step - loss: 0.0199 - mse: 0.0199 - val_loss: 0.0044 - val_mse: 0.0044\n",
            "Epoch 15/100\n",
            "1094/1094 [==============================] - 52s 48ms/step - loss: 0.0196 - mse: 0.0196 - val_loss: 0.0044 - val_mse: 0.0044\n",
            "Epoch 16/100\n",
            "1094/1094 [==============================] - 52s 47ms/step - loss: 0.0201 - mse: 0.0201 - val_loss: 0.0054 - val_mse: 0.0054\n",
            "Epoch 17/100\n",
            "1094/1094 [==============================] - 52s 47ms/step - loss: 0.0211 - mse: 0.0211 - val_loss: 0.0047 - val_mse: 0.0047\n",
            "Epoch 18/100\n",
            "1094/1094 [==============================] - 51s 47ms/step - loss: 0.0212 - mse: 0.0212 - val_loss: 0.0054 - val_mse: 0.0054\n",
            "Epoch 19/100\n",
            "1094/1094 [==============================] - 51s 46ms/step - loss: 0.0202 - mse: 0.0202 - val_loss: 0.0041 - val_mse: 0.0041\n",
            "Epoch 20/100\n",
            "1094/1094 [==============================] - 51s 47ms/step - loss: 0.0196 - mse: 0.0196 - val_loss: 0.0044 - val_mse: 0.0044\n",
            "Epoch 21/100\n",
            "1094/1094 [==============================] - 51s 46ms/step - loss: 0.0188 - mse: 0.0188 - val_loss: 0.0046 - val_mse: 0.0046\n",
            "Epoch 22/100\n",
            "1094/1094 [==============================] - 51s 47ms/step - loss: 0.0198 - mse: 0.0198 - val_loss: 0.0040 - val_mse: 0.0040\n",
            "Epoch 23/100\n",
            "1094/1094 [==============================] - 51s 47ms/step - loss: 0.0191 - mse: 0.0191 - val_loss: 0.0045 - val_mse: 0.0045\n",
            "Epoch 24/100\n",
            "1094/1094 [==============================] - 52s 48ms/step - loss: 0.0203 - mse: 0.0203 - val_loss: 0.0042 - val_mse: 0.0042\n",
            "Epoch 25/100\n",
            "1094/1094 [==============================] - 52s 47ms/step - loss: 0.0211 - mse: 0.0211 - val_loss: 0.0042 - val_mse: 0.0042\n",
            "Epoch 26/100\n",
            "1094/1094 [==============================] - 51s 47ms/step - loss: 0.0188 - mse: 0.0188 - val_loss: 0.0039 - val_mse: 0.0039\n",
            "Epoch 27/100\n",
            "1094/1094 [==============================] - 52s 47ms/step - loss: 0.0199 - mse: 0.0199 - val_loss: 0.0043 - val_mse: 0.0043\n",
            "Epoch 28/100\n",
            "1094/1094 [==============================] - 51s 47ms/step - loss: 0.0193 - mse: 0.0193 - val_loss: 0.0037 - val_mse: 0.0037\n",
            "Epoch 29/100\n",
            "1094/1094 [==============================] - 51s 47ms/step - loss: 0.0203 - mse: 0.0203 - val_loss: 0.0038 - val_mse: 0.0038\n",
            "Epoch 30/100\n",
            "1094/1094 [==============================] - 51s 47ms/step - loss: 0.0194 - mse: 0.0194 - val_loss: 0.0040 - val_mse: 0.0040\n",
            "Epoch 31/100\n",
            "1094/1094 [==============================] - 51s 47ms/step - loss: 0.0197 - mse: 0.0197 - val_loss: 0.0039 - val_mse: 0.0039\n",
            "Epoch 32/100\n",
            "1094/1094 [==============================] - 52s 47ms/step - loss: 0.0208 - mse: 0.0208 - val_loss: 0.0037 - val_mse: 0.0037\n",
            "Epoch 33/100\n",
            "1094/1094 [==============================] - 51s 47ms/step - loss: 0.0198 - mse: 0.0198 - val_loss: 0.0039 - val_mse: 0.0039\n",
            "Epoch 34/100\n",
            "1094/1094 [==============================] - 51s 46ms/step - loss: 0.0203 - mse: 0.0203 - val_loss: 0.0043 - val_mse: 0.0043\n",
            "Epoch 35/100\n",
            "1094/1094 [==============================] - 51s 47ms/step - loss: 0.0189 - mse: 0.0189 - val_loss: 0.0038 - val_mse: 0.0038\n",
            "Epoch 36/100\n",
            "1094/1094 [==============================] - 53s 48ms/step - loss: 0.0195 - mse: 0.0195 - val_loss: 0.0037 - val_mse: 0.0037\n",
            "Epoch 37/100\n",
            "1094/1094 [==============================] - 52s 47ms/step - loss: 0.0200 - mse: 0.0200 - val_loss: 0.0034 - val_mse: 0.0034\n",
            "Epoch 38/100\n",
            "1094/1094 [==============================] - 52s 47ms/step - loss: 0.0200 - mse: 0.0200 - val_loss: 0.0037 - val_mse: 0.0037\n",
            "Epoch 39/100\n",
            "1094/1094 [==============================] - 51s 47ms/step - loss: 0.0196 - mse: 0.0196 - val_loss: 0.0037 - val_mse: 0.0037\n",
            "Epoch 40/100\n",
            "1094/1094 [==============================] - 52s 47ms/step - loss: 0.0193 - mse: 0.0193 - val_loss: 0.0035 - val_mse: 0.0035\n",
            "Epoch 41/100\n",
            "1094/1094 [==============================] - 53s 48ms/step - loss: 0.0183 - mse: 0.0183 - val_loss: 0.0036 - val_mse: 0.0036\n",
            "Epoch 42/100\n",
            "1094/1094 [==============================] - 52s 47ms/step - loss: 0.0193 - mse: 0.0193 - val_loss: 0.0038 - val_mse: 0.0038\n",
            "Epoch 43/100\n",
            "1094/1094 [==============================] - 51s 47ms/step - loss: 0.0197 - mse: 0.0197 - val_loss: 0.0037 - val_mse: 0.0037\n",
            "Epoch 44/100\n",
            "1094/1094 [==============================] - 51s 47ms/step - loss: 0.0193 - mse: 0.0193 - val_loss: 0.0036 - val_mse: 0.0036\n",
            "Epoch 45/100\n",
            "1094/1094 [==============================] - 51s 47ms/step - loss: 0.0192 - mse: 0.0192 - val_loss: 0.0035 - val_mse: 0.0035\n",
            "Epoch 46/100\n",
            "1094/1094 [==============================] - 51s 46ms/step - loss: 0.0192 - mse: 0.0192 - val_loss: 0.0035 - val_mse: 0.0035\n",
            "Epoch 47/100\n",
            "1094/1094 [==============================] - 51s 46ms/step - loss: 0.0206 - mse: 0.0206 - val_loss: 0.0036 - val_mse: 0.0036\n",
            "Epoch 00047: early stopping\n"
          ],
          "name": "stdout"
        },
        {
          "output_type": "error",
          "ename": "NameError",
          "evalue": "ignored",
          "traceback": [
            "\u001b[0;31m---------------------------------------------------------------------------\u001b[0m",
            "\u001b[0;31mNameError\u001b[0m                                 Traceback (most recent call last)",
            "\u001b[0;32m<ipython-input-58-5cea1f349501>\u001b[0m in \u001b[0;36m<module>\u001b[0;34m()\u001b[0m\n\u001b[1;32m      1\u001b[0m \u001b[0moutput_directory\u001b[0m \u001b[0;34m=\u001b[0m   \u001b[0;34m'/content/drive/MyDrive/Colab Notebooks/Seminar'\u001b[0m\u001b[0;34m\u001b[0m\u001b[0;34m\u001b[0m\u001b[0m\n\u001b[1;32m      2\u001b[0m \u001b[0mclassifier\u001b[0m \u001b[0;34m=\u001b[0m \u001b[0mClassifier_RESNET\u001b[0m\u001b[0;34m(\u001b[0m\u001b[0moutput_directory\u001b[0m\u001b[0;34m,\u001b[0m \u001b[0minput_shape\u001b[0m\u001b[0;34m,\u001b[0m \u001b[0;36m1\u001b[0m\u001b[0;34m,\u001b[0m \u001b[0mverbose\u001b[0m\u001b[0;34m=\u001b[0m\u001b[0;32mTrue\u001b[0m\u001b[0;34m)\u001b[0m\u001b[0;34m\u001b[0m\u001b[0;34m\u001b[0m\u001b[0m\n\u001b[0;32m----> 3\u001b[0;31m \u001b[0mclassifier\u001b[0m\u001b[0;34m.\u001b[0m\u001b[0mfit\u001b[0m\u001b[0;34m(\u001b[0m\u001b[0mx_train\u001b[0m\u001b[0;34m,\u001b[0m \u001b[0my_train\u001b[0m\u001b[0;34m,\u001b[0m \u001b[0mx_test\u001b[0m\u001b[0;34m,\u001b[0m \u001b[0my_test\u001b[0m\u001b[0;34m,\u001b[0m \u001b[0my_test\u001b[0m\u001b[0;34m)\u001b[0m\u001b[0;34m\u001b[0m\u001b[0;34m\u001b[0m\u001b[0m\n\u001b[0m",
            "\u001b[0;32m<ipython-input-57-ebf2bb05d96e>\u001b[0m in \u001b[0;36mfit\u001b[0;34m(self, x_train, y_train, x_val, y_val, y_true)\u001b[0m\n\u001b[1;32m    136\u001b[0m         \u001b[0;31m#y_pred = np.argmax(y_pred, axis=1)\u001b[0m\u001b[0;34m\u001b[0m\u001b[0;34m\u001b[0m\u001b[0;34m\u001b[0m\u001b[0m\n\u001b[1;32m    137\u001b[0m \u001b[0;34m\u001b[0m\u001b[0m\n\u001b[0;32m--> 138\u001b[0;31m         \u001b[0mdf_metrics\u001b[0m \u001b[0;34m=\u001b[0m \u001b[0msave_logs\u001b[0m\u001b[0;34m(\u001b[0m\u001b[0mself\u001b[0m\u001b[0;34m.\u001b[0m\u001b[0moutput_directory\u001b[0m\u001b[0;34m,\u001b[0m \u001b[0mhist\u001b[0m\u001b[0;34m,\u001b[0m \u001b[0my_pred\u001b[0m\u001b[0;34m,\u001b[0m \u001b[0my_true\u001b[0m\u001b[0;34m,\u001b[0m \u001b[0mduration\u001b[0m\u001b[0;34m)\u001b[0m\u001b[0;34m\u001b[0m\u001b[0;34m\u001b[0m\u001b[0m\n\u001b[0m\u001b[1;32m    139\u001b[0m \u001b[0;34m\u001b[0m\u001b[0m\n\u001b[1;32m    140\u001b[0m         \u001b[0mkeras\u001b[0m\u001b[0;34m.\u001b[0m\u001b[0mbackend\u001b[0m\u001b[0;34m.\u001b[0m\u001b[0mclear_session\u001b[0m\u001b[0;34m(\u001b[0m\u001b[0;34m)\u001b[0m\u001b[0;34m\u001b[0m\u001b[0;34m\u001b[0m\u001b[0m\n",
            "\u001b[0;32m<ipython-input-56-4f702fdf089c>\u001b[0m in \u001b[0;36msave_logs\u001b[0;34m(output_directory, hist, y_pred, y_true, duration, lr, y_true_val, y_pred_val)\u001b[0m\n\u001b[1;32m     28\u001b[0m     \u001b[0mplot_epochs_metric\u001b[0m\u001b[0;34m(\u001b[0m\u001b[0mhist\u001b[0m\u001b[0;34m,\u001b[0m \u001b[0moutput_directory\u001b[0m \u001b[0;34m+\u001b[0m \u001b[0;34m'epochs_loss.png'\u001b[0m\u001b[0;34m)\u001b[0m\u001b[0;34m\u001b[0m\u001b[0;34m\u001b[0m\u001b[0m\n\u001b[1;32m     29\u001b[0m \u001b[0;34m\u001b[0m\u001b[0m\n\u001b[0;32m---> 30\u001b[0;31m     \u001b[0;32mreturn\u001b[0m \u001b[0mdf_metrics\u001b[0m\u001b[0;34m\u001b[0m\u001b[0;34m\u001b[0m\u001b[0m\n\u001b[0m",
            "\u001b[0;31mNameError\u001b[0m: name 'df_metrics' is not defined"
          ]
        }
      ]
    },
    {
      "cell_type": "code",
      "metadata": {
        "id": "LO53cu6HbNpk"
      },
      "source": [
        "output_directory =   '/content/drive/MyDrive/Colab Notebooks/Seminar'  # Change to your directory\n",
        "model_path = output_directory + 'best_model.hdf5'\n",
        "model = keras.models.load_model(model_path)\n",
        "start_time = time.time()\n",
        "y_pred = model.predict(x_test)\n",
        "y_pred = y_pred.reshape(y_pred.shape[0], y_pred.shape[1])\n",
        "duration = time.time() - start_time\n",
        "duration"
      ],
      "execution_count": null,
      "outputs": []
    },
    {
      "cell_type": "code",
      "metadata": {
        "id": "Z6v5r_xwdaCn"
      },
      "source": [
        "x_test_plt = x_test.reshape(x_test.shape[0], x_test.shape[1])"
      ],
      "execution_count": null,
      "outputs": []
    },
    {
      "cell_type": "code",
      "metadata": {
        "id": "IOZBKwlmc93_"
      },
      "source": [
        "x_test_plt.shape"
      ],
      "execution_count": null,
      "outputs": []
    },
    {
      "cell_type": "code",
      "metadata": {
        "id": "H9QQo_LyN6nJ"
      },
      "source": [
        "x_test_plt_pos = x_test_plt[:,0]*train_std.to_numpy()[0] + train_mean.to_numpy()[0]\n",
        "x_test_plt_vel = x_test_plt[:,1]*train_std.to_numpy()[1] + train_mean.to_numpy()[1]\n",
        "y_pred = y_pred*train_std.to_numpy()[2] + train_mean.to_numpy()[2]"
      ],
      "execution_count": null,
      "outputs": []
    },
    {
      "cell_type": "code",
      "metadata": {
        "id": "Ckt0f2fuPCeA"
      },
      "source": [
        "y_pred.shape"
      ],
      "execution_count": null,
      "outputs": []
    },
    {
      "cell_type": "code",
      "metadata": {
        "id": "1dNMrBsgchdG"
      },
      "source": [
        "plt.figure(figsize=(6,4))\n",
        "plt.plot(x_test_plt_pos, y_pred[:,0], label='Measured')\n",
        "#plt.plot(x_test_plt_vel, y_pred[:,0], label='Measured')\n",
        "plt.plot(x_test_plt_pos, y_pred[:,1], label='Prediction')\n",
        "#plt.plot(x_test_plt_vel, y_pred[:,1], label='Prediction')\n",
        "#plt.xlabel('Velocity [rad/s]')\n",
        "plt.xlabel('Position [rad]')\n",
        "plt.ylabel('Friction [Nm]')\n",
        "plt.legend(shadow=True, fancybox=True)\n",
        "plt.savefig('ResNetTrained.png')\n",
        "#plt.savefig('Output.png')"
      ],
      "execution_count": null,
      "outputs": []
    }
  ]
}